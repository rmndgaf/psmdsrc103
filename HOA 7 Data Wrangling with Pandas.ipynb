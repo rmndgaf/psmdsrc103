{
 "cells": [
  {
   "cell_type": "markdown",
   "id": "cc6bd62b",
   "metadata": {},
   "source": [
    "# Module 7: Data Wrangling with Pandas\n",
    "## PSMDSRC103 - Programming\n",
    "\n",
    "Submitted by: LastName, FirstName\n",
    "<br>Performed on: MM/DD/YYYY\n",
    "<br>Submitted on: MM/DD/YYYY\n",
    "\n",
    "Submitted to: Engr. Roman M. Richard\n",
    "\n",
    "---"
   ]
  },
  {
   "cell_type": "markdown",
   "id": "2aef2bae-5ffb-4fca-81a3-feffb3c7aa11",
   "metadata": {
    "tags": []
   },
   "source": [
    "# 7.1 Supplementary Activity"
   ]
  },
  {
   "cell_type": "markdown",
   "id": "2f700627",
   "metadata": {},
   "source": [
    "Using the datasets provided, perform the following exercises:"
   ]
  },
  {
   "cell_type": "markdown",
   "id": "fc751781",
   "metadata": {},
   "source": [
    "## Exercise 1\n",
    "We want to look at data for the Facebook, Apple, Amazon, Netflix, and Google (FAANG) stocks, but we were given each as a separate CSV file. Combine them into a single file and store the dataframe of the FAANG data as faang for the rest of the exercises:\n",
    "1. Read each file in.\n",
    "2. Add a column to each dataframe, called ticker, indicating the ticker symbol it is for (Apple's is AAPL, for example). This is how you look up a stock. Each file's name is also the ticker symbol, so be sure to capitalize it.\n",
    "3. Append them together into a single dataframe.\n",
    "4. Save the result in a CSV file called faang.csv."
   ]
  },
  {
   "cell_type": "code",
   "execution_count": null,
   "id": "ea8e79c8-a508-4481-b7e6-a399b295a5dc",
   "metadata": {},
   "outputs": [],
   "source": []
  },
  {
   "cell_type": "markdown",
   "id": "d962deeb",
   "metadata": {
    "tags": []
   },
   "source": [
    "## Exercise 2\n",
    "* With faang, use type conversion to change the date column into a datetime and the volume column into integers. Then, sort by date and ticker.\n",
    "* Find the seven rows with the highest value for volume.\n",
    "* Right now, the data is somewhere between long and wide format. Use melt() to make it completely long format. Hint: date and ticker are our ID variables (they uniquely identify each row). We need to melt the rest so that we don't have separate columns for open, high, low, close, and volume."
   ]
  },
  {
   "cell_type": "code",
   "execution_count": null,
   "id": "65545328-d97b-4158-a15e-43346a2f567f",
   "metadata": {},
   "outputs": [],
   "source": []
  },
  {
   "cell_type": "markdown",
   "id": "541708f8",
   "metadata": {},
   "source": [
    "## Exercise 3\n",
    "* Using web scraping, search for the list of the hospitals, their address and  contact information. Save the list in a new csv file, hospitals.csv. \n",
    "* Using the generated hospitals.csv, convert the csv file into pandas dataframe. Prepare the data using the necessary preprocessing techniques."
   ]
  },
  {
   "cell_type": "code",
   "execution_count": null,
   "id": "9bc416bd-dcf9-4082-907b-522aad9fc79e",
   "metadata": {},
   "outputs": [],
   "source": []
  },
  {
   "cell_type": "markdown",
   "id": "d9401e0d",
   "metadata": {},
   "source": [
    "---\n",
    "\n",
    "# 7.2 Conclusion:"
   ]
  },
  {
   "cell_type": "markdown",
   "id": "7bc3cc96",
   "metadata": {},
   "source": [
    "Write your conclusion here."
   ]
  }
 ],
 "metadata": {
  "kernelspec": {
   "display_name": "Python 3 (ipykernel)",
   "language": "python",
   "name": "python3"
  },
  "language_info": {
   "codemirror_mode": {
    "name": "ipython",
    "version": 3
   },
   "file_extension": ".py",
   "mimetype": "text/x-python",
   "name": "python",
   "nbconvert_exporter": "python",
   "pygments_lexer": "ipython3",
   "version": "3.9.13"
  }
 },
 "nbformat": 4,
 "nbformat_minor": 5
}
